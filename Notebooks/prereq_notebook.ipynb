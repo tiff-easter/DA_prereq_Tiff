{
 "cells": [
  {
   "cell_type": "code",
   "execution_count": 6,
   "id": "5d2832cb",
   "metadata": {},
   "outputs": [
    {
     "name": "stdout",
     "output_type": "stream",
     "text": [
      "What's my spirit animal?\n",
      "a wombat\n"
     ]
    }
   ],
   "source": [
    "print(\"What's my spirit animal?\")\n",
    "animals = ['elephant', 'dolphin', 'wombat']\n",
    "print(\"a\", animals[-1])\n"
   ]
  },
  {
   "cell_type": "markdown",
   "id": "00b42e9f",
   "metadata": {},
   "source": [
    "Hi, I'm Tiff.\n",
    "\n",
    "It's been a unique experience being the \"TV Lady\" for nearly six years.  It's allowed me to travel the Midwest, make friends across the country, and acquire some truly bizarre stories.\n",
    "\n",
    "I'm enthusiastic about learning new skills, and exploring opportunities that could transition my career to the other side of data collection! \n",
    "\n",
    "I'm a visual learner, and LOVE taking pen-and-paper notes.  This has been my \"tried and true\" method to retain information, but I'm definitely open to suggestions! \n",
    "\n",
    "Critical thinking and problem solving are areas where I excel if I fully understand each step of a process and/or how a device/program works. My resourcefulness has been described as tenacious. \n",
    "\n",
    "Public speaking is not my friend, and I've been working on this. My mouth goes dry, my words don't come out quite right, and then there's so much sweat. Bear with me as I get acquainted with my classmates.\n",
    "\n",
    "Really thrilled to be participating with this cohort!"
   ]
  }
 ],
 "metadata": {
  "kernelspec": {
   "display_name": "Python 3",
   "language": "python",
   "name": "python3"
  },
  "language_info": {
   "codemirror_mode": {
    "name": "ipython",
    "version": 3
   },
   "file_extension": ".py",
   "mimetype": "text/x-python",
   "name": "python",
   "nbconvert_exporter": "python",
   "pygments_lexer": "ipython3",
   "version": "3.13.7"
  }
 },
 "nbformat": 4,
 "nbformat_minor": 5
}
